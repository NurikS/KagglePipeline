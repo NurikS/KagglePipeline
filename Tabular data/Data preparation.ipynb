{
 "cells": [
  {
   "cell_type": "markdown",
   "metadata": {},
   "source": [
    "This notebook is intended to prepare the data to feed into the ML algo. Certain transformation, encoding and scaling..."
   ]
  },
  {
   "cell_type": "code",
   "execution_count": null,
   "metadata": {},
   "outputs": [],
   "source": [
    "import pandas as pd\n",
    "import numpy as np\n",
    "import matplotlib.pyplot as plt\n",
    "import sklearn\n",
    "from sklearn.preprocessing import LabelEncoder\n",
    "from sklearn.preprocessing import StandardScaler\n",
    "from sklearn.preprocessing import MinMaxScaler"
   ]
  },
  {
   "cell_type": "code",
   "execution_count": null,
   "metadata": {},
   "outputs": [],
   "source": [
    "TRAIN = pd.read_csv(\"CleanTrainData.csv\")\n",
    "TEST = pd.read_csv(\"Data/test.csv\")\n",
    "\n",
    "\n",
    "def encode_target(dataframe, target, encoding):\n",
    "    pass\n",
    "\n",
    "def encode_categories(dataframe, method, categories):            #a list of categories, use df.get_dummies for ohe\n",
    "    if method == \"ohe\":\n",
    "        encoded_categories = dataframe.get_dummies(categories)\n",
    "    elif method == \"label\":\n",
    "        encoder = LabelEncoder()\n",
    "        encoder.fit(dataframe[categories])\n",
    "    \n",
    "\n",
    "def scaling(dataframe, method, numericals): \n",
    "    if method == \"standard\":\n",
    "        scaler = StandardScaler()\n",
    "        scaler.fit(dataframe)\n",
    "    elif method == \"minmax\":\n",
    "        scaler = MinMaxScaler()\n",
    "        scaler.fit(dataframe)\n",
    "\n",
    "def extract_features(dataframe):\n",
    "    pass\n",
    "\n",
    "def data_specific_features(dataframe):\n",
    "    pass"
   ]
  }
 ],
 "metadata": {
  "kernelspec": {
   "display_name": "Python 3",
   "language": "python",
   "name": "python3"
  },
  "language_info": {
   "codemirror_mode": {
    "name": "ipython",
    "version": 3
   },
   "file_extension": ".py",
   "mimetype": "text/x-python",
   "name": "python",
   "nbconvert_exporter": "python",
   "pygments_lexer": "ipython3",
   "version": "3.6.6"
  }
 },
 "nbformat": 4,
 "nbformat_minor": 2
}
